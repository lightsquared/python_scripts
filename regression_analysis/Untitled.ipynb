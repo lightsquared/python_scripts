{
 "cells": [
  {
   "cell_type": "code",
   "execution_count": null,
   "metadata": {},
   "outputs": [],
   "source": []
  }
 ],
 "metadata": {
  "kernelspec": {
   "display_name": "R",
   "language": "R",
   "name": "ir"
  },
  "nteract": {
   "version": "nteract-on-jupyter@1.7.0"
  }
 },
 "nbformat": 4,
 "nbformat_minor": 2
}
